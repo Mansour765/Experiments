{
 "cells": [
  {
   "cell_type": "code",
   "execution_count": null,
   "metadata": {},
   "outputs": [],
   "source": [
    "import torch\n",
    "from torch import nn\n",
    "from torch.utils.data import DataLoader, Dataset\n",
    "from transformers import BertModel, DistilBertModel, RobertaModel\n",
    "from transformers import BertTokenizer, DistilBertTokenizer, RobertaTokenizer\n",
    "from transformers import AdamW, get_linear_schedule_with_warmup\n",
    "from sklearn.metrics import accuracy_score, f1_score, classification_report, confusion_matrix, ConfusionMatrixDisplay\n",
    "import pandas as pd\n",
    "import random\n",
    "import numpy as np\n",
    "import os\n",
    "import seaborn as sns\n",
    "import matplotlib.pyplot as plt\n",
    "%matplotlib inline\n",
    "import warnings\n",
    "warnings.filterwarnings('ignore')"
   ]
  },
  {
   "cell_type": "code",
   "execution_count": null,
   "metadata": {},
   "outputs": [],
   "source": [
    "# Set up parameters\n",
    "num_classes = 5\n",
    "max_length = 512\n",
    "batch_size = 16\n",
    "num_epochs = 20\n",
    "\n",
    "learning_rate = 2e-5\n",
    "\n",
    "b_model = BertModel\n",
    "model_name = 'bert-base-uncased'\n",
    "tokenizer_name = BertTokenizer"
   ]
  },
  {
   "cell_type": "code",
   "execution_count": null,
   "metadata": {},
   "outputs": [],
   "source": [
    "seed_val = 42\n",
    "\n",
    "random.seed(seed_val)\n",
    "np.random.seed(seed_val)\n",
    "torch.manual_seed(seed_val)\n",
    "torch.cuda.manual_seed_all(seed_val)\n",
    "torch.backends.cudnn.deterministic = True\n",
    "torch.backends.cudnn.benchmark = False"
   ]
  },
  {
   "cell_type": "code",
   "execution_count": null,
   "metadata": {},
   "outputs": [],
   "source": [
    "path = '''Dataset path'''\n",
    "\n",
    "data_train = pd.read_csv(path + '/train.csv')\n",
    "data_validation = pd.read_csv(path + '/validate.csv')\n",
    "data_test = pd.read_csv(path + '/test.csv')"
   ]
  },
  {
   "cell_type": "code",
   "execution_count": null,
   "metadata": {},
   "outputs": [],
   "source": [
    "class dataset(Dataset):\n",
    "    def __init__(self, data, tokenizer, max_length):\n",
    "        self.data = data\n",
    "        self.tokenizer = tokenizer\n",
    "        self.max_length = max_length\n",
    "        self.texts = data['Sentence'].tolist()\n",
    "        self.labels = data['class'].tolist()\n",
    "\n",
    "    def __len__(self):\n",
    "        return(len(self.texts))\n",
    "\n",
    "    def __getitem__(self,idx):\n",
    "        text = self.texts[idx]\n",
    "        label = self.labels[idx]\n",
    "\n",
    "        encoding = self.tokenizer.encode_plus(text,\n",
    "                                              max_length = self.max_length,\n",
    "                                              add_special_tokens = True,\n",
    "                                              padding = 'max_length',\n",
    "                                              truncation = True,\n",
    "                                              return_attention_mask = True,\n",
    "                                              return_tensors = 'pt',\n",
    "                                              )\n",
    "\n",
    "        return {'input_ids': encoding['input_ids'].flatten(),\n",
    "                'attention_mask': encoding['attention_mask'].flatten(),\n",
    "                'label': torch.tensor(label),\n",
    "                }"
   ]
  },
  {
   "cell_type": "code",
   "execution_count": null,
   "metadata": {},
   "outputs": [],
   "source": [
    "class classifier(nn.Module):\n",
    "    def __init__(self, model_name, num_classes):\n",
    "        super(BERTClassifier, self).__init__()\n",
    "        self.bert = b_model.from_pretrained(model_name)\n",
    "        self.pre_classifier = nn.Linear(768, 768)\n",
    "        self.dropout = nn.Dropout(0.1)\n",
    "        self.classifier = nn.Linear(768, num_classes)\n",
    "\n",
    "    def forward(self, input_ids, attention_mask):\n",
    "        outputs = self.bert(input_ids = input_ids, attention_mask = attention_mask)\n",
    "        pooled_output = outputs[0][:, 0]\n",
    "        pooler = self.pre_classifier(pooled_output)\n",
    "        pooler = nn.ReLU()(pooler)\n",
    "        pooler = self.dropout(pooler)\n",
    "        logits = self.classifier(pooler)\n",
    "        return logits"
   ]
  },
  {
   "cell_type": "code",
   "execution_count": null,
   "metadata": {},
   "outputs": [],
   "source": [
    "def train(model, data_loader, optimizer, scheduler, device):\n",
    "    model.train()\n",
    "    losses = []\n",
    "    predictions = []\n",
    "    actual_labels = []\n",
    "\n",
    "    for batch in data_loader:\n",
    "        optimizer.zero_grad()\n",
    "        input_ids = batch['input_ids'].to(device)\n",
    "        attention_mask = batch['attention_mask'].to(device)\n",
    "        labels = batch['label'].to(device)\n",
    "        outputs = model(input_ids = input_ids, attention_mask = attention_mask)\n",
    "        loss = nn.CrossEntropyLoss()(outputs, labels)\n",
    "        losses.append(loss.item())\n",
    "        _, preds = torch.max(outputs, dim = 1)\n",
    "        predictions.extend(preds.cpu().tolist())\n",
    "        actual_labels.extend(labels.cpu().tolist())\n",
    "        loss.backward()\n",
    "        nn.utils.clip_grad_norm_(model.parameters(), max_norm = 1.0)\n",
    "        optimizer.step()\n",
    "        scheduler.step()\n",
    "    avg_loss = np.mean(losses)\n",
    "    return avg_loss, predictions, actual_labels"
   ]
  },
  {
   "cell_type": "code",
   "execution_count": null,
   "metadata": {},
   "outputs": [],
   "source": [
    "def evaluate(model, data_loader, device):\n",
    "    model.eval()\n",
    "    losses = []\n",
    "    predictions = []\n",
    "    actual_labels = []\n",
    "    with torch.no_grad():\n",
    "        for batch in data_loader:\n",
    "            input_ids = batch['input_ids'].to(device)\n",
    "            attention_mask = batch['attention_mask'].to(device)\n",
    "            labels = batch['label'].to(device)\n",
    "            outputs = model(input_ids = input_ids, attention_mask = attention_mask)\n",
    "            loss = nn.CrossEntropyLoss()(outputs, labels)\n",
    "            losses.append(loss.item())\n",
    "            _, preds = torch.max(outputs, dim = 1)\n",
    "            predictions.extend(preds.cpu().tolist())\n",
    "            actual_labels.extend(labels.cpu().tolist())\n",
    "    avg_loss = np.mean(losses)\n",
    "    return avg_loss, predictions, actual_labels"
   ]
  },
  {
   "cell_type": "code",
   "execution_count": null,
   "metadata": {},
   "outputs": [],
   "source": [
    "tokenizer = tokenizer_name.from_pretrained(model_name, do_lower_case=True)\n",
    "\n",
    "train_dataset = dataset(data_train, tokenizer, max_length)\n",
    "train_dataloader = DataLoader(train_dataset, batch_size = batch_size)\n",
    "\n",
    "val_dataset = dataset(data_validation, tokenizer, max_length)\n",
    "val_dataloader = DataLoader(val_dataset, batch_size = batch_size)\n",
    "\n",
    "test_dataset = dataset(data_test, tokenizer, max_length)\n",
    "test_dataloader = DataLoader(test_dataset, batch_size = batch_size)"
   ]
  },
  {
   "cell_type": "code",
   "execution_count": null,
   "metadata": {},
   "outputs": [],
   "source": [
    "device = torch.device(\"cuda\" if torch.cuda.is_available() else \"cpu\")\n",
    "model = classifier(model_name, num_classes).to(device)"
   ]
  },
  {
   "cell_type": "code",
   "execution_count": null,
   "metadata": {},
   "outputs": [],
   "source": [
    "optimizer = AdamW(model.parameters(), lr = learning_rate)\n",
    "\n",
    "total_steps = len(train_dataloader) * num_epochs\n",
    "scheduler = get_linear_schedule_with_warmup(optimizer, num_warmup_steps = 0, num_training_steps = total_steps)"
   ]
  },
  {
   "cell_type": "code",
   "execution_count": null,
   "metadata": {},
   "outputs": [],
   "source": [
    "checkpoint_path = path + '/checkpoint/'\n",
    "if os.path.exists(checkpoint_path) == False:\n",
    "    os.makedirs(checkpoint_path)"
   ]
  },
  {
   "cell_type": "code",
   "execution_count": null,
   "metadata": {},
   "outputs": [],
   "source": [
    "training_stats = []\n",
    "\n",
    "for epoch in range(num_epochs):\n",
    "    print(f\"Epoch {epoch + 1}/{num_epochs}\")\n",
    "    training_loss, training_predictions, training_actual_labels = train(model, train_dataloader, optimizer, scheduler, device)\n",
    "    training_accuracy_score = accuracy_score(training_actual_labels, training_predictions)\n",
    "\n",
    "    val_loss, val_predictions, val_actual_labels = evaluate(model, val_dataloader, device)\n",
    "    val_accuracy_score = accuracy_score(val_actual_labels, val_predictions)\n",
    "    val_f1_score = f1_score(val_actual_labels, val_predictions, average='macro')\n",
    "\n",
    "    torch.save(model, path + '/last-model.pt')\n",
    "\n",
    "    training_stats.append({'epoch': epoch + 1,\n",
    "                           'Training Loss': training_loss,\n",
    "                           'Training Accuracy': training_accuracy_score,\n",
    "                           'Validation Loss': val_loss,\n",
    "                           'Validation Accuracy': val_accuracy_score,\n",
    "                           'Validation F1 Score': val_f1_score,\n",
    "                           })"
   ]
  },
  {
   "cell_type": "code",
   "execution_count": null,
   "metadata": {},
   "outputs": [],
   "source": [
    "pd.set_option('display.precision', 4)\n",
    "df_stats = pd.DataFrame(data = training_stats)\n",
    "df_stats = df_stats.set_index('epoch')\n",
    "df_stats"
   ]
  },
  {
   "cell_type": "code",
   "execution_count": null,
   "metadata": {},
   "outputs": [],
   "source": [
    "plt.plot(df_stats['Training Loss'])\n",
    "plt.plot(df_stats['Validation Loss'])\n",
    "plt.title('Training & Validation Loss')\n",
    "plt.ylabel('Loss')\n",
    "plt.xlabel('Epoch')\n",
    "plt.legend(['Training', 'Validation'], loc='upper left')\n",
    "plt.show()\n",
    "plt.plot(df_stats['Training Accuracy'])\n",
    "plt.plot(df_stats['Validation Accuracy'])\n",
    "plt.title('Training & Validation Accuracy')\n",
    "plt.ylabel('Accuracy')\n",
    "plt.xlabel('Epoch')\n",
    "plt.legend(['Training', 'Validation'], loc='upper left')\n",
    "plt.show()"
   ]
  },
  {
   "cell_type": "code",
   "execution_count": null,
   "metadata": {},
   "outputs": [],
   "source": [
    "test_loss, test_predictions, test_actual_labels = evaluate(model, test_dataloader, device)\n",
    "test_accuracy_score = accuracy_score(test_actual_labels, test_predictions)\n",
    "test_f1_score = f1_score(test_actual_labels, test_predictions, average='macro')\n",
    "report = classification_report(test_actual_labels, test_predictions, target_names=['Joy', 'Anger', 'Sadness', 'Surprise', 'Anticipation'],\n",
    "                               output_dict = True)\n",
    "print(f\"Test Loss: {test_loss:.4f}\")\n",
    "print(f\"Test Accuracy: {test_accuracy_score:.4f}\")\n",
    "print(f\"Test F1 Score: {test_f1_score:.4f}\")\n",
    "report_df = pd.DataFrame(report).transpose()\n",
    "report_df"
   ]
  },
  {
   "cell_type": "code",
   "execution_count": null,
   "metadata": {},
   "outputs": [],
   "source": [
    "cm = confusion_matrix(test_actual_labels, test_predictions)\n",
    "ax = sns.heatmap(cm, square = True, annot = True, cmap = 'Blues', fmt = 'd', cbar = False)\n",
    "ax.set_xlabel(\"Predicttion\", fontsize = 14, labelpad = 20)\n",
    "ax.xaxis.set_ticklabels(['Joy', 'Anger', 'Sadness', 'Surprise', 'Anticipation'])\n",
    "ax.set_ylabel(\"Actual\", fontsize = 14, labelpad = 20)\n",
    "ax.yaxis.set_ticklabels(['Joy', 'Anger', 'Sadness', 'Surprise', 'Anticipation'])\n",
    "ax.set_title(\"Confusion Matrix for Test data\", fontsize = 14, pad = 20)\n",
    "plt.show()"
   ]
  }
 ],
 "metadata": {
  "kernelspec": {
   "display_name": "Python 3 (ipykernel)",
   "language": "python",
   "name": "python3"
  },
  "language_info": {
   "codemirror_mode": {
    "name": "ipython",
    "version": 3
   },
   "file_extension": ".py",
   "mimetype": "text/x-python",
   "name": "python",
   "nbconvert_exporter": "python",
   "pygments_lexer": "ipython3",
   "version": "3.11.7"
  }
 },
 "nbformat": 4,
 "nbformat_minor": 4
}
